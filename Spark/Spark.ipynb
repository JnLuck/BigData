{
  "nbformat": 4,
  "nbformat_minor": 0,
  "metadata": {
    "colab": {
      "provenance": []
    },
    "kernelspec": {
      "name": "python3",
      "display_name": "Python 3"
    },
    "language_info": {
      "name": "python"
    }
  },
  "cells": [
    {
      "cell_type": "code",
      "execution_count": null,
      "metadata": {
        "colab": {
          "base_uri": "https://localhost:8080/"
        },
        "id": "kpmohWgBL56j",
        "outputId": "3c146262-7160-47a7-ef19-7e693cf425fc"
      },
      "outputs": [
        {
          "output_type": "stream",
          "name": "stdout",
          "text": [
            "Collecting pyspark\n",
            "  Downloading pyspark-3.5.1.tar.gz (317.0 MB)\n",
            "\u001b[2K     \u001b[90m━━━━━━━━━━━━━━━━━━━━━━━━━━━━━━━━━━━━━━━━\u001b[0m \u001b[32m317.0/317.0 MB\u001b[0m \u001b[31m3.4 MB/s\u001b[0m eta \u001b[36m0:00:00\u001b[0m\n",
            "\u001b[?25h  Preparing metadata (setup.py) ... \u001b[?25l\u001b[?25hdone\n",
            "Requirement already satisfied: py4j==0.10.9.7 in /usr/local/lib/python3.10/dist-packages (from pyspark) (0.10.9.7)\n",
            "Building wheels for collected packages: pyspark\n",
            "  Building wheel for pyspark (setup.py) ... \u001b[?25l\u001b[?25hdone\n",
            "  Created wheel for pyspark: filename=pyspark-3.5.1-py2.py3-none-any.whl size=317488491 sha256=160a68de8679470510f90a01fa9f881e8f70d37c321fe34f2dd670fbb0382cc3\n",
            "  Stored in directory: /root/.cache/pip/wheels/80/1d/60/2c256ed38dddce2fdd93be545214a63e02fbd8d74fb0b7f3a6\n",
            "Successfully built pyspark\n",
            "Installing collected packages: pyspark\n",
            "Successfully installed pyspark-3.5.1\n"
          ]
        }
      ],
      "source": [
        "# Instalamos pyspark para usar spark en python\n",
        "!pip install pyspark"
      ]
    },
    {
      "cell_type": "code",
      "source": [
        "# Importa la clase SparkContext del paquete pyspark\n",
        "from pyspark import SparkContext"
      ],
      "metadata": {
        "id": "edEEp8FpL-QV"
      },
      "execution_count": null,
      "outputs": []
    },
    {
      "cell_type": "code",
      "source": [
        "# Crea una nueva instancia de SparkContext\n",
        "sc = SparkContext()"
      ],
      "metadata": {
        "id": "k-JR36XvL_IF"
      },
      "execution_count": null,
      "outputs": []
    },
    {
      "cell_type": "code",
      "source": [
        "# Creamos un archivo de texto de ejemplo\n",
        "%%writefile ejemplo.txt\n",
        "primera linea\n",
        "segunda linea\n",
        "tercera linea\n",
        "cuarta linea"
      ],
      "metadata": {
        "colab": {
          "base_uri": "https://localhost:8080/"
        },
        "id": "5JSlfizdMAbN",
        "outputId": "033238f2-ec22-4837-defc-fe82ffbeb59a"
      },
      "execution_count": null,
      "outputs": [
        {
          "output_type": "stream",
          "name": "stdout",
          "text": [
            "Writing ejemplo.txt\n"
          ]
        }
      ]
    },
    {
      "cell_type": "code",
      "source": [
        "# Abrimos el archivo de text con el conjeto \"sc\"\n",
        "textFile = sc.textFile('ejemplo.txt')"
      ],
      "metadata": {
        "id": "3ipLIHWuMBmE"
      },
      "execution_count": null,
      "outputs": []
    },
    {
      "cell_type": "code",
      "source": [
        "# Mostramos información del archivo del ejemplo\n",
        "textFile"
      ],
      "metadata": {
        "colab": {
          "base_uri": "https://localhost:8080/"
        },
        "id": "R79oCU3OMCv8",
        "outputId": "0ef5a339-f8c5-42b1-d616-4cbb329936b5"
      },
      "execution_count": null,
      "outputs": [
        {
          "output_type": "execute_result",
          "data": {
            "text/plain": [
              "ejemplo.txt MapPartitionsRDD[1] at textFile at NativeMethodAccessorImpl.java:0"
            ]
          },
          "metadata": {},
          "execution_count": 6
        }
      ]
    },
    {
      "cell_type": "markdown",
      "source": [
        "# **Acciones**"
      ],
      "metadata": {
        "id": "mYqNRAcHMErz"
      }
    },
    {
      "cell_type": "code",
      "source": [
        "# Usamos la acción 'collect' para mostrar el contenido del archivo de ejemplo\n",
        "textFile.collect()"
      ],
      "metadata": {
        "colab": {
          "base_uri": "https://localhost:8080/"
        },
        "id": "UPX29gQPMGWa",
        "outputId": "1b0b7d11-585e-43e8-baa7-2c9f3e97abe9"
      },
      "execution_count": null,
      "outputs": [
        {
          "output_type": "execute_result",
          "data": {
            "text/plain": [
              "['primera linea', 'segunda linea', 'tercera linea', 'cuarta linea']"
            ]
          },
          "metadata": {},
          "execution_count": 7
        }
      ]
    },
    {
      "cell_type": "code",
      "source": [
        "# Obtenemos el número de eventos de la coleción usando la acción 'count'\n",
        "textFile.count()"
      ],
      "metadata": {
        "colab": {
          "base_uri": "https://localhost:8080/"
        },
        "id": "axU4Uz5aMINS",
        "outputId": "1401411c-97f5-4c33-a741-f9c1c06c8506"
      },
      "execution_count": null,
      "outputs": [
        {
          "output_type": "execute_result",
          "data": {
            "text/plain": [
              "4"
            ]
          },
          "metadata": {},
          "execution_count": 8
        }
      ]
    },
    {
      "cell_type": "code",
      "source": [
        "# Obtenemos el número de eventos de la coleción usando la acción 'count'\n",
        "textFile.first()"
      ],
      "metadata": {
        "colab": {
          "base_uri": "https://localhost:8080/",
          "height": 35
        },
        "id": "KUcAeS1aMaJS",
        "outputId": "28165223-b7f6-4e53-88eb-d05faf055004"
      },
      "execution_count": null,
      "outputs": [
        {
          "output_type": "execute_result",
          "data": {
            "text/plain": [
              "'primera linea'"
            ],
            "application/vnd.google.colaboratory.intrinsic+json": {
              "type": "string"
            }
          },
          "metadata": {},
          "execution_count": 10
        }
      ]
    },
    {
      "cell_type": "markdown",
      "source": [
        "# **Transformación**"
      ],
      "metadata": {
        "id": "QVJFsQOtMkF0"
      }
    },
    {
      "cell_type": "code",
      "source": [
        " # Filtra las líneas del RDD textFile que contienen la palabra 'segunda'\n",
        " # y almacena el resultado en un nuevo RDD llamado 'segunda'\n",
        "segunda = textFile.filter(lambda linea: 'segunda' in linea)"
      ],
      "metadata": {
        "id": "4eoOWQIoMlEs"
      },
      "execution_count": null,
      "outputs": []
    },
    {
      "cell_type": "code",
      "source": [
        "# Mostramos el resultado\n",
        "segunda"
      ],
      "metadata": {
        "colab": {
          "base_uri": "https://localhost:8080/"
        },
        "id": "WhO1oGBFMnTM",
        "outputId": "4a4ae81d-6983-4a7e-bab3-4e2b2a4d17b4"
      },
      "execution_count": null,
      "outputs": [
        {
          "output_type": "execute_result",
          "data": {
            "text/plain": [
              "PythonRDD[5] at RDD at PythonRDD.scala:53"
            ]
          },
          "metadata": {},
          "execution_count": 12
        }
      ]
    },
    {
      "cell_type": "code",
      "source": [
        "segunda.collect()"
      ],
      "metadata": {
        "colab": {
          "base_uri": "https://localhost:8080/"
        },
        "id": "Wyt_Vw32Mo-U",
        "outputId": "b728a331-efb4-4921-c1fd-3efeca3737b9"
      },
      "execution_count": null,
      "outputs": [
        {
          "output_type": "execute_result",
          "data": {
            "text/plain": [
              "['segunda linea']"
            ]
          },
          "metadata": {},
          "execution_count": 13
        }
      ]
    },
    {
      "cell_type": "code",
      "source": [
        "lista = [1,2,3,4,5]"
      ],
      "metadata": {
        "id": "HoL4pglCMzTM"
      },
      "execution_count": null,
      "outputs": []
    },
    {
      "cell_type": "code",
      "source": [
        "rdd = sc.parallelize(lista)"
      ],
      "metadata": {
        "id": "K8e0RkQdM-Zj"
      },
      "execution_count": null,
      "outputs": []
    },
    {
      "cell_type": "code",
      "source": [
        "rdd.collect()"
      ],
      "metadata": {
        "colab": {
          "base_uri": "https://localhost:8080/"
        },
        "id": "ScslxnMeNMh0",
        "outputId": "cc470efe-fe48-4828-d515-33de045e4cd9"
      },
      "execution_count": null,
      "outputs": [
        {
          "output_type": "execute_result",
          "data": {
            "text/plain": [
              "[1, 2, 3, 4, 5]"
            ]
          },
          "metadata": {},
          "execution_count": 16
        }
      ]
    },
    {
      "cell_type": "markdown",
      "source": [
        "# **filter() filtra los elementos de un RDD**"
      ],
      "metadata": {
        "id": "cmOXTqJtNR40"
      }
    },
    {
      "cell_type": "code",
      "source": [
        "filtrado_rdd = rdd.filter(lambda x: x > 1)"
      ],
      "metadata": {
        "id": "XWEHoc41Ndl8"
      },
      "execution_count": null,
      "outputs": []
    },
    {
      "cell_type": "code",
      "source": [
        "filtrado_rdd.collect()"
      ],
      "metadata": {
        "colab": {
          "base_uri": "https://localhost:8080/"
        },
        "id": "tCJkKjTUNnwD",
        "outputId": "a4967806-42a1-4838-e070-c8621de7d569"
      },
      "execution_count": null,
      "outputs": [
        {
          "output_type": "execute_result",
          "data": {
            "text/plain": [
              "[2, 3, 4, 5]"
            ]
          },
          "metadata": {},
          "execution_count": 18
        }
      ]
    },
    {
      "cell_type": "markdown",
      "source": [
        "# **map() aplica una función a los elementos de un RDD**"
      ],
      "metadata": {
        "id": "ADpuHWNANsaU"
      }
    },
    {
      "cell_type": "code",
      "source": [
        "def sumal(x):\n",
        "  return(x+1)"
      ],
      "metadata": {
        "id": "DN06-uSWN0j0"
      },
      "execution_count": null,
      "outputs": []
    },
    {
      "cell_type": "code",
      "source": [
        "filtrado_sumado_rdd = filtrado_rdd.map(sumal)"
      ],
      "metadata": {
        "id": "kEYBB9esN_Pk"
      },
      "execution_count": null,
      "outputs": []
    },
    {
      "cell_type": "code",
      "source": [
        "filtrado_sumado_rdd.collect()"
      ],
      "metadata": {
        "colab": {
          "base_uri": "https://localhost:8080/"
        },
        "id": "A1dXJJyWOJc0",
        "outputId": "b454d5e0-0bc5-4732-f084-e9fc83b346b6"
      },
      "execution_count": null,
      "outputs": [
        {
          "output_type": "execute_result",
          "data": {
            "text/plain": [
              "[3, 4, 5, 6]"
            ]
          },
          "metadata": {},
          "execution_count": 23
        }
      ]
    },
    {
      "cell_type": "code",
      "source": [
        "cuadrado_rdd = (filtrado_rdd\n",
        "                .map(sumal)\n",
        "                .map(lambda x: (x,x**2)))"
      ],
      "metadata": {
        "id": "bezw2KMMOTqU"
      },
      "execution_count": null,
      "outputs": []
    },
    {
      "cell_type": "code",
      "source": [
        "cuadrado_rdd.collect()"
      ],
      "metadata": {
        "colab": {
          "base_uri": "https://localhost:8080/"
        },
        "id": "EHPZLyU-Og9E",
        "outputId": "c9626df2-a84c-4443-96e8-6db76b7ab7b9"
      },
      "execution_count": null,
      "outputs": [
        {
          "output_type": "execute_result",
          "data": {
            "text/plain": [
              "[(3, 9), (4, 16), (5, 25), (6, 36)]"
            ]
          },
          "metadata": {},
          "execution_count": 25
        }
      ]
    },
    {
      "cell_type": "markdown",
      "source": [
        "# **flatMap es igual que map() pero te conviene el resultado de una lista simple**"
      ],
      "metadata": {
        "id": "Ek31I0RKOpvk"
      }
    },
    {
      "cell_type": "code",
      "source": [
        "cuadrado_rdd = (filtrado_rdd\n",
        "                .map(sumal)\n",
        "                .flatMap(lambda x: (x,x**2)))"
      ],
      "metadata": {
        "id": "fV0-BgI6OzhW"
      },
      "execution_count": null,
      "outputs": []
    },
    {
      "cell_type": "code",
      "source": [
        "cuadrado_rdd.collect()"
      ],
      "metadata": {
        "colab": {
          "base_uri": "https://localhost:8080/"
        },
        "id": "31ma2xO5O4sm",
        "outputId": "d5884cc1-e849-4ae9-8096-e0cd76ad3361"
      },
      "execution_count": null,
      "outputs": [
        {
          "output_type": "execute_result",
          "data": {
            "text/plain": [
              "[3, 9, 4, 16, 5, 25, 6, 36]"
            ]
          },
          "metadata": {},
          "execution_count": 30
        }
      ]
    },
    {
      "cell_type": "markdown",
      "source": [
        "*****"
      ],
      "metadata": {
        "id": "GWESZfp_TX1V"
      }
    },
    {
      "cell_type": "markdown",
      "source": [
        "# **Creando un Pair RDD a partir de una lista de tuplas**"
      ],
      "metadata": {
        "id": "fuMvYJBUPU3b"
      }
    },
    {
      "cell_type": "code",
      "source": [
        "lista_tuplas = [('a',1),('b',2),('c',3)]"
      ],
      "metadata": {
        "id": "7TvmYNUSPa_E"
      },
      "execution_count": null,
      "outputs": []
    },
    {
      "cell_type": "code",
      "source": [
        "lista_tuplas"
      ],
      "metadata": {
        "colab": {
          "base_uri": "https://localhost:8080/"
        },
        "id": "VLfwd8TGPonU",
        "outputId": "c0b94298-201c-4aa2-8207-7f2c37e57c2d"
      },
      "execution_count": null,
      "outputs": [
        {
          "output_type": "execute_result",
          "data": {
            "text/plain": [
              "[('a', 1), ('b', 2), ('c', 3)]"
            ]
          },
          "metadata": {},
          "execution_count": 32
        }
      ]
    },
    {
      "cell_type": "code",
      "source": [
        "pair_rdd = sc.parallelize(lista_tuplas)"
      ],
      "metadata": {
        "id": "mGDuP3iQPr4s"
      },
      "execution_count": null,
      "outputs": []
    },
    {
      "cell_type": "code",
      "source": [
        "pair_rdd.collect()"
      ],
      "metadata": {
        "colab": {
          "base_uri": "https://localhost:8080/"
        },
        "id": "2Q-CNRrYPy1k",
        "outputId": "120b954b-1cf9-48ca-b8be-33c2df174f12"
      },
      "execution_count": null,
      "outputs": [
        {
          "output_type": "execute_result",
          "data": {
            "text/plain": [
              "[('a', 1), ('b', 2), ('c', 3)]"
            ]
          },
          "metadata": {},
          "execution_count": 34
        }
      ]
    },
    {
      "cell_type": "markdown",
      "source": [
        "# **Utilizando zip()**"
      ],
      "metadata": {
        "id": "ebVcuKgDP3FD"
      }
    },
    {
      "cell_type": "code",
      "source": [
        "pair_rdd2 = sc.parallelize(zip((['a','b','c']), range(1,4,1)))"
      ],
      "metadata": {
        "id": "npMtoYk8P6wM"
      },
      "execution_count": null,
      "outputs": []
    },
    {
      "cell_type": "code",
      "source": [
        "pair_rdd2.collect()"
      ],
      "metadata": {
        "colab": {
          "base_uri": "https://localhost:8080/"
        },
        "id": "G7AOLBheQMX8",
        "outputId": "629b11b9-581a-4839-c267-cab555f80268"
      },
      "execution_count": null,
      "outputs": [
        {
          "output_type": "execute_result",
          "data": {
            "text/plain": [
              "[('a', 1), ('b', 2), ('c', 3)]"
            ]
          },
          "metadata": {},
          "execution_count": 36
        }
      ]
    },
    {
      "cell_type": "markdown",
      "source": [
        "# **Ejemplo utilizando un archivo**"
      ],
      "metadata": {
        "id": "jlgMsQvWQRYc"
      }
    },
    {
      "cell_type": "code",
      "source": [
        "rdd_celestina = sc.textFile(\"LaCelestina.txt\")"
      ],
      "metadata": {
        "id": "Mm9vnlA6QUyc"
      },
      "execution_count": null,
      "outputs": []
    },
    {
      "cell_type": "code",
      "source": [
        "pair_rdd_celestina = rdd_celestina.map(lambda x: (x.split(\" \")[0],x))"
      ],
      "metadata": {
        "id": "kV2SJ7D2Qj58"
      },
      "execution_count": null,
      "outputs": []
    },
    {
      "cell_type": "markdown",
      "source": [
        "# **keyby()**"
      ],
      "metadata": {
        "id": "pXWE9uTiRzuL"
      }
    },
    {
      "cell_type": "code",
      "source": [
        "rdd = sc.parallelize(range(5))"
      ],
      "metadata": {
        "id": "mhgffCVxRx90"
      },
      "execution_count": null,
      "outputs": []
    },
    {
      "cell_type": "code",
      "source": [
        "rdd.collect()"
      ],
      "metadata": {
        "colab": {
          "base_uri": "https://localhost:8080/"
        },
        "id": "iYieq1QvR9K8",
        "outputId": "a6169d3a-562f-421f-b85e-8b4ab782e0e1"
      },
      "execution_count": null,
      "outputs": [
        {
          "output_type": "execute_result",
          "data": {
            "text/plain": [
              "[0, 1, 2, 3, 4]"
            ]
          },
          "metadata": {},
          "execution_count": 50
        }
      ]
    },
    {
      "cell_type": "code",
      "source": [
        "pair_rdd = rdd.keyBy(lambda x: x+1)"
      ],
      "metadata": {
        "id": "364gyh21R_ik"
      },
      "execution_count": null,
      "outputs": []
    },
    {
      "cell_type": "code",
      "source": [
        "pair_rdd.collect()"
      ],
      "metadata": {
        "colab": {
          "base_uri": "https://localhost:8080/"
        },
        "id": "qHIz1RNZSIZj",
        "outputId": "ab20403e-162c-406d-ab02-50f8adfb8372"
      },
      "execution_count": null,
      "outputs": [
        {
          "output_type": "execute_result",
          "data": {
            "text/plain": [
              "[(1, 0), (2, 1), (3, 2), (4, 3), (5, 4)]"
            ]
          },
          "metadata": {},
          "execution_count": 52
        }
      ]
    },
    {
      "cell_type": "markdown",
      "source": [
        "# **zipWithIndex()**"
      ],
      "metadata": {
        "id": "yMANCBLVSNrj"
      }
    },
    {
      "cell_type": "code",
      "source": [
        "rdd = sc.parallelize(['a','b'])"
      ],
      "metadata": {
        "id": "qqnngW4HSMrz"
      },
      "execution_count": null,
      "outputs": []
    },
    {
      "cell_type": "code",
      "source": [
        "n_filtrado_rdd = rdd.filter(lambda x: x in [10, 20, 30, 40, 50])"
      ],
      "metadata": {
        "id": "8vhsQPDIUvdM"
      },
      "execution_count": null,
      "outputs": []
    }
  ]
}